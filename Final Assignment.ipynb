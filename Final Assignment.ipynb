{
  "metadata": {
    "kernelspec": {
      "name": "python",
      "display_name": "Python (Pyodide)",
      "language": "python"
    },
    "language_info": {
      "codemirror_mode": {
        "name": "python",
        "version": 3
      },
      "file_extension": ".py",
      "mimetype": "text/x-python",
      "name": "python",
      "nbconvert_exporter": "python",
      "pygments_lexer": "ipython3",
      "version": "3.8"
    }
  },
  "nbformat_minor": 4,
  "nbformat": 4,
  "cells": [
    {
      "cell_type": "code",
      "source": "print(5*5)",
      "metadata": {
        "trusted": true
      },
      "outputs": [
        {
          "name": "stdout",
          "text": "25\n",
          "output_type": "stream"
        }
      ],
      "execution_count": 1
    },
    {
      "cell_type": "markdown",
      "source": "# This is the title",
      "metadata": {}
    },
    {
      "cell_type": "markdown",
      "source": "## This is the introduction",
      "metadata": {}
    },
    {
      "cell_type": "markdown",
      "source": "Data science languages: Python/Julia/R/SQL",
      "metadata": {}
    },
    {
      "cell_type": "markdown",
      "source": "## Data sciencelibraries:\n- Pandas\n- numpy\n- matplotlib\n- seaborne\n- heatmaps",
      "metadata": {}
    },
    {
      "cell_type": "markdown",
      "source": "## Data science tools: \n- Powerbi\n- Tableau\n- Tableau prep builder\n- mySQL\n- JupyterLite\n- Juputer Notebook\n- Rstudios",
      "metadata": {}
    },
    {
      "cell_type": "markdown",
      "source": "Aritmetic Examples:\nmultiplication: 5*5\naddition: 5+5\nsubtraction: 5-5\ndivision: 5/5",
      "metadata": {}
    },
    {
      "cell_type": "code",
      "source": "#multiply numbers\nprint(5*5)",
      "metadata": {
        "trusted": true
      },
      "outputs": [
        {
          "name": "stdout",
          "text": "25\n",
          "output_type": "stream"
        }
      ],
      "execution_count": 2
    },
    {
      "cell_type": "code",
      "source": "#add numbers\nprint(5+5)",
      "metadata": {
        "trusted": true
      },
      "outputs": [
        {
          "name": "stdout",
          "text": "10\n",
          "output_type": "stream"
        }
      ],
      "execution_count": 3
    },
    {
      "cell_type": "code",
      "source": "Time = 120\nhours = 120/60\nprint(hours)",
      "metadata": {
        "trusted": true
      },
      "outputs": [
        {
          "name": "stdout",
          "text": "2.0\n",
          "output_type": "stream"
        }
      ],
      "execution_count": 4
    },
    {
      "cell_type": "markdown",
      "source": "## objectives\n- Learn what the tools for Data Science are\n- Learn what each platform can do\n- Learn the basic level of usage\n- Learn where to get help if i decide to deep dive\n- Get Certification for what i have learnt\n",
      "metadata": {}
    },
    {
      "cell_type": "markdown",
      "source": "# Authors Name:\nzion Virgil Angelus",
      "metadata": {}
    }
  ]
}